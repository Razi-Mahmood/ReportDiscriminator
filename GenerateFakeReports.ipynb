{
 "cells": [
  {
   "cell_type": "code",
   "execution_count": 1,
   "id": "instant-binary",
   "metadata": {},
   "outputs": [],
   "source": [
    "#%load_ext autoreload\n",
    "%reload_ext autoreload\n",
    "%autoreload 2\n",
    "\n",
    "import numpy as np\n",
    "import pandas as pd\n",
    "import os\n",
    "#from utils.preprocess import extract_findings\n",
    "from utils.preprocess import *\n",
    "from utils.negationprocessing import *\n",
    "from utils.createreports import *\n",
    "from utils.fakereporting import *\n"
   ]
  },
  {
   "cell_type": "code",
   "execution_count": 2,
   "id": "after-photographer",
   "metadata": {},
   "outputs": [],
   "source": [
    "rootdir=\"/Users/razimahmood/envpytorch/pytorchprojects\"\n",
    "ml_gtdir = \"/Users/razimahmood/envpytorch/pytorchprojects/summer23_research/ml_gt_indiana/\"\n",
    "indir=rootdir+\"/allreportsIndiana/\"\n",
    "# this is the input directory for all the text & image data from Kaggle\n",
    "outdir=rootdir+\"/allreportsIndianaout\"\n",
    "\n",
    "outdir1=outdir+\"/removerandom/\"\n",
    "outdir2=outdir+\"/addrandom/\"\n",
    "outdir3=outdir+\"/exchange/\"\n",
    "outdir4=outdir+\"/reversefinding/\"\n",
    "\n",
    "\n",
    "#radiologist_gtdir = \"/Users/razimahmood/envpytorch/pytorchprojects/summer23research/radiologist_gt/\"\n",
    "\n",
    "gtfile=\"/Users/razimahmood/envpytorch/pytorchprojects/indiana_reports.csv\"\n",
    "#dicomdir=\"/Users/razimahmood/envpytorch/pytorchprojects/DICOMtest\"\n",
    "\n",
    "dicomdir = \"/Users/razimahmood/envpytorch/pytorchprojects/dicom_images/images_normalized\"\n",
    "\n"
   ]
  },
  {
   "cell_type": "markdown",
   "id": "ecca476c",
   "metadata": {},
   "source": [
    "### Run preprocessing to extract all necessary information\n",
    "## 1. extract_findings: extracts findings using the \"Problems\" column in indiana_reports.csv from Kaggle\n",
    "### findings -> are from kaggle Problemmmap\n",
    "### sentence_findingMap -> from chexpert labels\n",
    "## 2. process_mapping : creates the following maps needed for the report generation:\n",
    "### a. problem_map -> records all sentences across reports that contain the finding indexed by finding as the key (this uses the finding labels (cheXpert provided) at the sentence level)\n",
    "### b. filename_map -> records all findings within a report indexed by the reportname as the key\n",
    "### c. origsentenceMap ->records all sentences within a report as an array, reflecting the order in which they came \n",
    "### d. report_to_finding_to_sentenceMap ->double hashmap, reportname->finding->sentence containing the finding. The first hahsmap index(key) is the reportname, the second level index key is the finding. \n",
    "## 3. capitalize_entries ; capitalizes all sentences to enable Spacy analysis (it expects a sentence). Produces:\n",
    "### revised_sentenceMap ->is the same as origsentenceMap except that the first letter of the sentences is capitalized\n",
    "## 4. extract_neg_map: detects which findings are negated. Produceds:\n",
    "### neg_map-> a hashMap that records findings->list of sentences in which this finding is in the negated sense. This is done at the sentence level regardless of which report it comes from.\n",
    "## 5. process_dicomfilenames: record the patient id, the reports associated with the patient and the imaging files associated with the reports. Created a double hashmap:\n",
    "### files_per_patient: patientid->reportname->list of images covered by the report. \n",
    "### e.g. 0106 {'CXR1156.txt': ['1156_IM-0106-1001.dcm.png', '1156_IM-0106-2001.dcm.png'], 'CXR1157.txt': ['1157_IM-0106-1001.dcm.png', '1157_IM-0106-2001.dcm.png']}, here 0106 is the patientID, CSR1156.txt is the report name, and 1156_IM-0106-1001.dcm.png is one of the views associated with the report."
   ]
  },
  {
   "cell_type": "code",
   "execution_count": 32,
   "id": "closing-insight",
   "metadata": {},
   "outputs": [],
   "source": [
    "#this is preprocessing to generate reports\n",
    "#findings=extract_findings(gtfile)\n",
    "findings,sentence_findingMap=extract_findings(gtfile,ml_gtdir+\"Chexpertlabels.txt\")\n",
    "problem_map,filename_map,report_to_finding_to_sentenceMap,origsentenceMap=process_mapping(indir, findings,sentence_findingMap)\n",
    "revised_sentenceMap=capitalize_entries(origsentenceMap)\n",
    "neg_map=extract_neg_map(indir,nlp0,neg_model,nlpmodel)\n",
    "files_per_patient=process_dicomfilenames(dicomdir)"
   ]
  },
  {
   "cell_type": "code",
   "execution_count": 33,
   "id": "21434b56",
   "metadata": {},
   "outputs": [
    {
     "name": "stdout",
     "output_type": "stream",
     "text": [
      "0 the lungs are clear, and without focal air space opacity. {'lung', 'opacity'}\n",
      "1 emphysematous changes are present. {'emphysema'}\n",
      "2 within the right lung, there are increased interstitial opacities within the medial right lung base and right upper lobe, with patchy airspace opacity within the right lung apex. {'lung', 'opacity'}\n",
      "3 no focal consolidation, suspicious pulmonary opacity, pleural effusion, or pneumothorax. {'pleural effusion', 'consolidation', 'pneumothorax', 'opacity', 'thorax', 'pleura'}\n",
      "4 low lung volumes. {'lung'}\n"
     ]
    }
   ],
   "source": [
    "#this is preprocessing to generate reports\n",
    "print_k_lines(sentence_findingMap,5)"
   ]
  },
  {
   "cell_type": "code",
   "execution_count": 34,
   "id": "c491d31c",
   "metadata": {},
   "outputs": [
    {
     "name": "stdout",
     "output_type": "stream",
     "text": [
      "0 0272 {'CXR1425.txt': ['1425_IM-0272-1001.dcm.png', '1425_IM-0272-1002.dcm.png'], 'CXR1426.txt': ['1426_IM-0272-1001.dcm.png', '1426_IM-0272-2001.dcm.png']}\n",
      "1 2200 {'CXR616.txt': ['616_IM-2200-1001.dcm.png', '616_IM-2200-3001.dcm.png'], 'CXR617.txt': ['617_IM-2200-1001.dcm.png', '617_IM-2200-1002.dcm.png'], 'CXR613.txt': ['613_IM-2200-1001.dcm.png', '613_IM-2200-2001.dcm.png'], 'CXR614.txt': ['614_IM-2200-1001.dcm.png', '614_IM-2200-4001.dcm.png'], 'CXR615.txt': ['615_IM-2200-1001.dcm.png', '615_IM-2200-1002.dcm.png']}\n",
      "2 1412 {'CXR3039.txt': ['3039_IM-1412-1001.dcm.png', '3039_IM-1412-2001.dcm.png']}\n",
      "3 1505 {'CXR3189.txt': ['3189_IM-1505-1001.dcm.png'], 'CXR319.txt': ['319_IM-1505-1001.dcm.png', '319_IM-1505-1002.dcm.png'], 'CXR3194.txt': ['3194_IM-1505-1001.dcm.png', '3194_IM-1505-2001.dcm.png'], 'CXR3191.txt': ['3191_IM-1505-1001.dcm.png', '3191_IM-1505-2001.dcm.png'], 'CXR3192.txt': ['3192_IM-1505-1001.dcm.png', '3192_IM-1505-2001.dcm.png'], 'CXR3190.txt': ['3190_IM-1505-1001.dcm.png', '3190_IM-1505-2001.dcm.png'], 'CXR3193.txt': ['3193_IM-1505-1001.dcm.png', '3193_IM-1505-1002.dcm.png']}\n",
      "4 1914 {'CXR3804.txt': ['3804_IM-1914-1001.dcm.png', '3804_IM-1914-2001.dcm.png']}\n"
     ]
    }
   ],
   "source": [
    "print_k_lines(files_per_patient,5)"
   ]
  },
  {
   "cell_type": "code",
   "execution_count": 7,
   "id": "dbde3354",
   "metadata": {},
   "outputs": [
    {
     "name": "stdout",
     "output_type": "stream",
     "text": [
      "0 medical device set()\n",
      "1 hernia, diaphragmatic set()\n"
     ]
    }
   ],
   "source": [
    "print_k_lines(problem_map,2) #finding->sentences (from Chexpert-provided labels)"
   ]
  },
  {
   "cell_type": "code",
   "execution_count": 8,
   "id": "4cf286a9",
   "metadata": {},
   "outputs": [
    {
     "name": "stdout",
     "output_type": "stream",
     "text": [
      "0 CXR1511.txt {'normal', 'heart', 'lung', 'mediastinum'}\n",
      "1 CXR3460.txt {'lung', 'infiltrate', 'pneumothorax', 'thorax', 'heart', 'mediastinum'}\n",
      "2 CXR1277.txt {'pleural effusion', 'normal', 'consolidation', 'lung', 'pneumothorax', 'thorax', 'pleura'}\n",
      "3 CXR1263.txt {'normal', 'lung'}\n"
     ]
    }
   ],
   "source": [
    "print_k_lines(filename_map,4) #report ->findings (from Kaggle)"
   ]
  },
  {
   "cell_type": "code",
   "execution_count": 9,
   "id": "dac30b88",
   "metadata": {},
   "outputs": [
    {
     "name": "stdout",
     "output_type": "stream",
     "text": [
      "0 CXR1511.txt ['both lungs are clear and expanded.', 'heart and mediastinum normal.']\n",
      "1 CXR3460.txt ['the heart and mediastinum are unremarkable.', 'the lungs are clear without infiltrate.', 'there is no effusion or pneumothorax.']\n",
      "2 CXR1277.txt ['pa and lateral views the chest were obtained.', 'the cardiomediastinal silhouette is normal in size and configuration.', 'the lungs are well aerated.', 'no pneumothorax, pleural effusion, or lobar air space consolidation.', 'xxxx right middle lobe collapse appears less distinct than on prior study.']\n",
      "3 CXR1263.txt ['cardiac and mediastinal contours are within normal limits.', 'the lungs are clear.', 'bony structures are intact.']\n"
     ]
    }
   ],
   "source": [
    "print_k_lines(origsentenceMap,4) #sentences in each report"
   ]
  },
  {
   "cell_type": "code",
   "execution_count": 10,
   "id": "56677399",
   "metadata": {},
   "outputs": [
    {
     "name": "stdout",
     "output_type": "stream",
     "text": [
      "0 CXR1511.txt {'lung': {'both lungs are clear and expanded.'}, 'heart': {'heart and mediastinum normal.'}, 'normal': {'heart and mediastinum normal.'}, 'mediastinum': {'heart and mediastinum normal.'}}\n",
      "1 CXR3460.txt {'heart': {'the heart and mediastinum are unremarkable.'}, 'mediastinum': {'the heart and mediastinum are unremarkable.'}, 'lung': {'the lungs are clear without infiltrate.'}, 'infiltrate': {'the lungs are clear without infiltrate.'}, 'pneumothorax': {'there is no effusion or pneumothorax.'}, 'thorax': {'there is no effusion or pneumothorax.'}}\n"
     ]
    }
   ],
   "source": [
    "print_k_lines(report_to_finding_to_sentenceMap,2) #report->finding->sentences"
   ]
  },
  {
   "cell_type": "code",
   "execution_count": 11,
   "id": "c2128454",
   "metadata": {},
   "outputs": [
    {
     "name": "stdout",
     "output_type": "stream",
     "text": [
      "0 CXR1511.txt ['Both lungs are clear and expanded.', 'Heart and mediastinum normal.']\n",
      "1 CXR3460.txt ['The heart and mediastinum are unremarkable.', 'The lungs are clear without infiltrate.', 'There is no effusion or pneumothorax.']\n"
     ]
    }
   ],
   "source": [
    "print_k_lines(revised_sentenceMap,2) #this is for pretty printing and also language analysis for negations"
   ]
  },
  {
   "cell_type": "code",
   "execution_count": 12,
   "id": "0b70acc3",
   "metadata": {},
   "outputs": [
    {
     "name": "stdout",
     "output_type": "stream",
     "text": [
      "0 effusion {'no focal consolidation, effusion, or pneumothorax identified.', 'the lungs are clear without evidence of acute infiltrate or effusion.', 'no focal consolidations, effusions, or pneumothoraces.', 'no significant effusion.', 'no pneumothorax or effusion.', 'no effusions no pneumothorax.', 'there is no acute infiltrate or effusion.', 'negative for effusion, pneumothorax, or focal airspace consolidation.', 'no focal infiltrate or effusion.', 'no large effusion or visualized pneumothorax.', 'no large effusion or airspace disease.', 'no evidence of focal infiltrate or effusion.', 'there is no pneumothorax or effusion.', 'no focal consolidation, effusion, or pneumothorax.', 'no focal airspace consolidation, large effusion, or appreciable pneumothorax.', 'no large effusions.', 'otherwise, the lungs are clear, without evidence of acute infiltrate or effusion.', 'no airspace disease, effusion or noncalcified nodule.', 'the lungs do not demonstrate focal infiltrate or effusion.', 'the lungs are grossly clear without focal pneumonic consolidation, large effusion or pneumothorax.', 'no pneumothorax or large effusion.', 'no pneumothorax large effusion.', 'no pneumonia, effusions, edema, pneumothorax, adenopathy, nodules or masses.', 'no large consolidation, effusion, or pneumothorax.', 'there is minimal hyperexpansion and hyperlucency of the lungs suggestive of chronic lung disease, without focal consolidation, pneumothorax, or effusion identified.', 'there is no focal consolidation, pneumothorax or effusion.', 'no large pneumothorax or effusion.', 'no effusion or infiltrate.', 'no effusions, consolidation or pneumothorax.', 'there is no acute pulmonary consolidation, large effusion or pneumothorax.', 'lungs are otherwise clear, without evidence of acute infiltrate or effusion.', 'lungs are clear without focal consolidation, effusion or pneumothorax.', 'the lungs are clear with no evidence of acute infiltrate or effusion.', 'lungs are clear without focal consolidation, effusion, or pneumothorax.', 'otherwise lungs are clear, without evidence of acute infiltrate or effusion.', 'no large effusions or pneumothorax.', 'no effusion, consolidation, or pneumothorax.', 'there is no effusion or pneumothorax.', 'no edema or effusions.', 'no focal consolidation, pneumothorax, or large pleural effusion identified (blunting of costophrenic recesses bilaterally may represent small effusions or pleural thickening/scar.', 'lungs are clear, without evidence of acute infiltrate or effusion.', 'the lungs are clear without focal airspace opacity, large effusion, or pneumothorax.', 'there is no large effusion.', 'lungs are otherwise clear bilaterally without effusion or pneumothorax.', 'the lungs are clear, without evidence of focal infiltrate or effusion.', 'no pneumothorax or effusions.', 'no focal consolidation, pneumothorax, or effusion identified.', 'there is relative elevation of the right hemidiaphragm consistent with history of right lower lobectomy, without focal consolidation, pneumothorax, or effusion identified.', 'there are mildly low lung volumes without focal consolidation, pneumothorax, or effusion identified.', 'otherwise, the lungs are clear without evidence of acute infiltrate or effusion.', 'no effusion or pneumothorax.', 'the lungs are clear, without evidence of acute infiltrate or effusion.', 'lung xxxx are clear without evidence of effusion, infiltrate, or pneumothorax.', 'lungs are hyperexpanded but clear without evidence of effusion or infiltrate.', 'no pneumothorax or large effusions.', 'no effusion or noncalcified nodules.', 'no large effusion.', 'there is no large effusion or pneumothorax.', 'no focal airspace disease or effusion.', 'no large effusion or pneumothorax.', 'the lungs are clear without focal consolidation, effusion, or pneumothorax.', 'unchanged blunting of the right lateral costophrenic xxxx, scarring versus xxxx effusion.', 'no focal airspace consolidation, effusions or pneumothorax.', 'no large effusion, no visible pneumothorax within the limits of the study.', 'the lungs are clear without acute infiltrate, effusion or pneumothorax.', 'no effusions or pneumothorax.', 'no focal consolidation, pneumothorax, or definite effusion identified.', 'there are no acute infiltrates, effusions.', 'negative for effusion or pneumothorax.', 'otherwise the lungs appear clear, without evidence of acute infiltrate or effusion.', 'there are no infiltrates, effusions, or pneumothorax.', 'no large effusion is seen.'}\n"
     ]
    }
   ],
   "source": [
    "print_k_lines(neg_map,1) #the result of negation detection"
   ]
  },
  {
   "cell_type": "markdown",
   "id": "electric-tooth",
   "metadata": {},
   "source": [
    "### Create Ground Truth labeled dataset for ML\n",
    "## this code generates all types of reports and saves them to directories in outdir\n",
    "### This code can be run again and again to generate as many reports because of the random selections within (add random, replace random, etc.)\n"
   ]
  },
  {
   "cell_type": "markdown",
   "id": "advisory-consumer",
   "metadata": {},
   "source": [
    "### Creating the fake modification record for radiologists verification\n",
    "## puts all the modified reports in one convenient table for radiologists to verify for accuracy"
   ]
  },
  {
   "cell_type": "code",
   "execution_count": 38,
   "id": "individual-nomination",
   "metadata": {},
   "outputs": [],
   "source": [
    "rows=set()\n",
    "#run as many times this command to get a set of fake reports\n",
    "rows=create_all_reportrows_withoutdicom(indir,outdir, findings, neg_map,filename_map, problem_map, \n",
    "                                                 report_to_finding_to_sentenceMap,revised_sentenceMap,rows)\n",
    "rows=create_all_reportrows_withoutdicom(indir,outdir, findings, neg_map,filename_map, problem_map, \n",
    "                                                 report_to_finding_to_sentenceMap,revised_sentenceMap,rows)\n",
    "rows=create_all_reportrows_withoutdicom(indir,outdir, findings, neg_map,filename_map, problem_map, \n",
    "                                                 report_to_finding_to_sentenceMap,revised_sentenceMap,rows)\n",
    "#write all those unique rows into a single output file\n",
    "header=\"Report Name\\tOriginal Report\\tModified Report\\tSentence Added\\tSentence Deleted\\t AffectedFinding\\t Method\"\n",
    "writerows(header,rows,ml_gtdir+\"combined_rows.txt\")"
   ]
  },
  {
   "cell_type": "code",
   "execution_count": 31,
   "id": "1a40453d",
   "metadata": {},
   "outputs": [
    {
     "data": {
      "text/plain": [
       "27122"
      ]
     },
     "execution_count": 31,
     "metadata": {},
     "output_type": "execute_result"
    }
   ],
   "source": [
    "len(rows)"
   ]
  },
  {
   "cell_type": "code",
   "execution_count": 37,
   "id": "textile-census",
   "metadata": {},
   "outputs": [
    {
     "data": {
      "text/html": [
       "<div>\n",
       "<style scoped>\n",
       "    .dataframe tbody tr th:only-of-type {\n",
       "        vertical-align: middle;\n",
       "    }\n",
       "\n",
       "    .dataframe tbody tr th {\n",
       "        vertical-align: top;\n",
       "    }\n",
       "\n",
       "    .dataframe thead th {\n",
       "        text-align: right;\n",
       "    }\n",
       "</style>\n",
       "<table border=\"1\" class=\"dataframe\">\n",
       "  <thead>\n",
       "    <tr style=\"text-align: right;\">\n",
       "      <th></th>\n",
       "      <th>Report Name</th>\n",
       "      <th>Original Report</th>\n",
       "      <th>Modified Report</th>\n",
       "      <th>Sentence Added</th>\n",
       "      <th>Sentence Deleted</th>\n",
       "      <th>AffectedFinding</th>\n",
       "      <th>Method</th>\n",
       "    </tr>\n",
       "  </thead>\n",
       "  <tbody>\n",
       "    <tr>\n",
       "      <th>0</th>\n",
       "      <td>CXR1451.txt</td>\n",
       "      <td>Left lower lobe calcified granuloma. Heart siz...</td>\n",
       "      <td>Heart size normal. No pleural effusion or pneu...</td>\n",
       "      <td>There are postsurgical changes of the left hem...</td>\n",
       "      <td>Left lower lobe calcified granuloma.</td>\n",
       "      <td>['calcified granuloma', 'granuloma', 'volume l...</td>\n",
       "      <td>Exchange Finding</td>\n",
       "    </tr>\n",
       "    <tr>\n",
       "      <th>1</th>\n",
       "      <td>CXR3849.txt</td>\n",
       "      <td>Cardiomediastinal silhouettes are within norma...</td>\n",
       "      <td>Cardiomediastinal silhouettes are within norma...</td>\n",
       "      <td>Heart and mediastinum remain normal.</td>\n",
       "      <td>None</td>\n",
       "      <td>['mediastinum']</td>\n",
       "      <td>Add Random Finding</td>\n",
       "    </tr>\n",
       "    <tr>\n",
       "      <th>2</th>\n",
       "      <td>CXR2200.txt</td>\n",
       "      <td>Low lung volumes. Bibasilar atelectasis versus...</td>\n",
       "      <td>Bibasilar atelectasis versus scarring. Stable ...</td>\n",
       "      <td>The lungs are otherwise clear of focal infiltr...</td>\n",
       "      <td>Low lung volumes.</td>\n",
       "      <td>['lung', 'infiltrate']</td>\n",
       "      <td>Exchange Finding</td>\n",
       "    </tr>\n",
       "    <tr>\n",
       "      <th>3</th>\n",
       "      <td>CXR1109.txt</td>\n",
       "      <td>Pulmonary vascularity is within normal limits....</td>\n",
       "      <td>Pulmonary vascularity is within normal limits....</td>\n",
       "      <td>Stable calcified granuloma in the left upper l...</td>\n",
       "      <td>None</td>\n",
       "      <td>['granuloma']</td>\n",
       "      <td>Add Random Finding</td>\n",
       "    </tr>\n",
       "    <tr>\n",
       "      <th>4</th>\n",
       "      <td>CXR1170.txt</td>\n",
       "      <td>No pneumothorax, pleural effusion, or focal ai...</td>\n",
       "      <td>Mild cardiomegaly. Cardio mediastinal silhouet...</td>\n",
       "      <td>Lungs are clear without focal consolidation, e...</td>\n",
       "      <td>No pneumothorax, pleural effusion, or focal ai...</td>\n",
       "      <td>['airspace disease', 'pleura', 'pneumothorax',...</td>\n",
       "      <td>Reverse Finding</td>\n",
       "    </tr>\n",
       "  </tbody>\n",
       "</table>\n",
       "</div>"
      ],
      "text/plain": [
       "   Report Name                                    Original Report  \\\n",
       "0  CXR1451.txt  Left lower lobe calcified granuloma. Heart siz...   \n",
       "1  CXR3849.txt  Cardiomediastinal silhouettes are within norma...   \n",
       "2  CXR2200.txt  Low lung volumes. Bibasilar atelectasis versus...   \n",
       "3  CXR1109.txt  Pulmonary vascularity is within normal limits....   \n",
       "4  CXR1170.txt  No pneumothorax, pleural effusion, or focal ai...   \n",
       "\n",
       "                                     Modified Report  \\\n",
       "0  Heart size normal. No pleural effusion or pneu...   \n",
       "1  Cardiomediastinal silhouettes are within norma...   \n",
       "2  Bibasilar atelectasis versus scarring. Stable ...   \n",
       "3  Pulmonary vascularity is within normal limits....   \n",
       "4  Mild cardiomegaly. Cardio mediastinal silhouet...   \n",
       "\n",
       "                                      Sentence Added  \\\n",
       "0  There are postsurgical changes of the left hem...   \n",
       "1               Heart and mediastinum remain normal.   \n",
       "2  The lungs are otherwise clear of focal infiltr...   \n",
       "3  Stable calcified granuloma in the left upper l...   \n",
       "4  Lungs are clear without focal consolidation, e...   \n",
       "\n",
       "                                    Sentence Deleted  \\\n",
       "0               Left lower lobe calcified granuloma.   \n",
       "1                                               None   \n",
       "2                                  Low lung volumes.   \n",
       "3                                               None   \n",
       "4  No pneumothorax, pleural effusion, or focal ai...   \n",
       "\n",
       "                                     AffectedFinding              Method  \n",
       "0  ['calcified granuloma', 'granuloma', 'volume l...    Exchange Finding  \n",
       "1                                    ['mediastinum']  Add Random Finding  \n",
       "2                             ['lung', 'infiltrate']    Exchange Finding  \n",
       "3                                      ['granuloma']  Add Random Finding  \n",
       "4  ['airspace disease', 'pleura', 'pneumothorax',...     Reverse Finding  "
      ]
     },
     "execution_count": 37,
     "metadata": {},
     "output_type": "execute_result"
    }
   ],
   "source": [
    "#the combined_rows.txt was generated by repeating the above cell create_all_reportrows_withoutdicom multiple times\n",
    "#to generate sufficient number of fake reports each time due to random selection of sentences\n",
    "#they were concatenated (through 'cat' command to make the larger file combined_rows.txt and removing duplicates using excel (all this outside this codebase))\n",
    "#df = pd.read_csv(ml_gtdir+\"faked_indiana_datasetrows.txt\", delimiter = \"\\t\")\n",
    "#len(df.index)\n",
    "df=pd.read_csv(ml_gtdir+\"combined_rows.txt\", delimiter = \"\\t\")\n",
    "df.head()\n",
    "#print(df.iloc[1])"
   ]
  },
  {
   "cell_type": "markdown",
   "id": "13746188",
   "metadata": {},
   "source": [
    "# Divide the dataset into train-test-correct/deploy splits\n",
    "\n",
    "#### using the 60-20-20 based on patients\n",
    "\n",
    "    "
   ]
  },
  {
   "cell_type": "code",
   "execution_count": 16,
   "id": "9fe5b80b",
   "metadata": {},
   "outputs": [
    {
     "name": "stdout",
     "output_type": "stream",
     "text": [
      "18718\n",
      "Recalculated  =  1786\n",
      "1071 715\n",
      "1071 357 358\n"
     ]
    }
   ],
   "source": [
    "patients_train,patients_test,patients_deploy,reportToPatientMap=prepare_splits(ml_gtdir+\"combined_rows.txt\",files_per_patient,ml_gtdir)"
   ]
  },
  {
   "cell_type": "markdown",
   "id": "6058e4f8",
   "metadata": {},
   "source": [
    "### Create the reports (original and Ai reports for report quality scoring from the held-out patients)"
   ]
  },
  {
   "cell_type": "code",
   "execution_count": 35,
   "id": "8263190e",
   "metadata": {},
   "outputs": [
    {
     "name": "stdout",
     "output_type": "stream",
     "text": [
      "modif rows=  27122 27122\n",
      "5317\n"
     ]
    }
   ],
   "source": [
    "save_holdoutdata(ml_gtdir+\"combined_rows.txt\",reportToPatientMap,patients_deploy,ml_gtdir+\"eportscoring2\")"
   ]
  },
  {
   "cell_type": "markdown",
   "id": "d43720c3",
   "metadata": {},
   "source": [
    "## Create the dataset for training the classifier carrying over information on the origin \n",
    "### of the sentences so the performance could be assessed per perturbation"
   ]
  },
  {
   "cell_type": "code",
   "execution_count": null,
   "id": "5fffb1b3",
   "metadata": {},
   "outputs": [],
   "source": [
    "#rowMap=create_ml_dataset(ml_gtdir+\"combined_rows.txt\",reportToPatientMap,patients_train,patients_test,patients_deploy,files_per_patient,ml_gtdir+\"ML_datasetrows_complete.txt\",True)\n",
    "rowMap=create_ml_dataset(ml_gtdir+\"combined_rows.txt\",reportToPatientMap,patients_train,patients_test,patients_deploy,files_per_patient,ml_gtdir+\"ML_datasetrows2.txt\",False)\n"
   ]
  },
  {
   "cell_type": "code",
   "execution_count": 19,
   "id": "8fedc7f8",
   "metadata": {},
   "outputs": [
    {
     "data": {
      "text/plain": [
       "26463"
      ]
     },
     "execution_count": 19,
     "metadata": {},
     "output_type": "execute_result"
    }
   ],
   "source": [
    "len(rowMap)"
   ]
  }
 ],
 "metadata": {
  "kernelspec": {
   "display_name": "envpytorch",
   "language": "python",
   "name": "envpytorch"
  },
  "language_info": {
   "codemirror_mode": {
    "name": "ipython",
    "version": 3
   },
   "file_extension": ".py",
   "mimetype": "text/x-python",
   "name": "python",
   "nbconvert_exporter": "python",
   "pygments_lexer": "ipython3",
   "version": "3.9.16"
  }
 },
 "nbformat": 4,
 "nbformat_minor": 5
}
